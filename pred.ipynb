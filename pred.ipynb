{
 "cells": [
  {
   "cell_type": "code",
   "execution_count": null,
   "metadata": {},
   "outputs": [],
   "source": []
  },
  {
   "cell_type": "code",
   "execution_count": null,
   "metadata": {},
   "outputs": [],
   "source": [
    "from torch import load\n",
    "import torch\n",
    "import sys\n",
    "import numpy as np\n",
    "from schnetpack.data import AtomsData\n",
    "import schnetpack as spk\n",
    "import ase.db\n",
    "import ase.io\n",
    "from ase.io import read,write\n",
    "import joblib\n",
    "import lightgbm as lgb\n",
    "import os\n",
    "from openbabel import openbabel\n",
    "from rdkit import Chem"
   ]
  },
  {
   "cell_type": "code",
   "execution_count": null,
   "metadata": {},
   "outputs": [],
   "source": [
    "\n"
   ]
  },
  {
   "cell_type": "code",
   "execution_count": null,
   "metadata": {},
   "outputs": [],
   "source": [
    "def load_model(target,path):\n",
    "    if target!='PCE':\n",
    "        model1=load(path, map_location=torch.device('cpu'))\n",
    "        model1.eval()\n",
    "        return model1\n",
    "    else:\n",
    "        model= joblib.load(path)\n",
    "        \n",
    "        return model\n",
    "    "
   ]
  },
  {
   "cell_type": "code",
   "execution_count": null,
   "metadata": {},
   "outputs": [],
   "source": [
    "def cal_nd(mol):\n",
    "    atoms=mol.toatoms()\n",
    "    write('mol.xyz',atoms)\n",
    "    obConversion = openbabel.OBConversion()\n",
    "    obConversion.SetInAndOutFormats(\"xyz\", \"mol\")\n",
    "    mol = openbabel.OBMol()\n",
    "    obConversion.ReadFile(mol, \"mol.xyz\")   # Open Babel will uncompress automatically\n",
    "    mol.AddHydrogens() \n",
    "    obConversion.WriteFile(mol, '1.mol')\n",
    "\n",
    "    #calculate Nd         \n",
    "    mol = Chem.MolFromMolFile('1.mol')        \n",
    "    n = len(mol.GetAtoms())         \n",
    "    Nd = 0        \n",
    "    for i in range(0,n):\n",
    "        atom = mol.GetAtomWithIdx(i)\n",
    "        #判断原子是否为芳香性\n",
    "        if atom.GetIsAromatic() == True:\n",
    "            Nd += 1\n",
    "        if atom.GetIsAromatic() == False:\n",
    "            #判断原子价电子是否等于总饱和度\n",
    "            if atom.GetTotalValence() != atom.GetTotalDegree():\n",
    "                Nd += 1\n",
    "            if atom.GetTotalValence() == atom.GetTotalDegree():\n",
    "                #判断原子是否在环上\n",
    "                if atom.IsInRing() == True:\n",
    "                    Nd += 1\n",
    "        \n",
    "        \n",
    "    return Nd"
   ]
  },
  {
   "cell_type": "code",
   "execution_count": null,
   "metadata": {},
   "outputs": [],
   "source": [
    "def cal_prop(moln,molo,tag):\n",
    "    \n",
    "    \n",
    "    al=.0\n",
    "    if molo.data.Acceptor=='PC61BM':\n",
    "        al= -3.70\n",
    "        adl= 0.077824564\n",
    "    if molo.data.Acceptor=='PC71BM':\n",
    "        al= -3.91\n",
    "        adl= 0.033470005\n",
    "    if tag=='edahl':\n",
    "        prop=al-float(molo.data.HOMO)\n",
    "    if tag=='edall':\n",
    "        prop=float(molo.data.LUMO)-al\n",
    "    if tag=='adlumo':\n",
    "        prop=adl\n",
    "    if tag=='nd':\n",
    "        prop=cal_nd(moln)\n",
    "\n",
    "\n",
    "    return prop"
   ]
  },
  {
   "cell_type": "code",
   "execution_count": null,
   "metadata": {},
   "outputs": [],
   "source": [
    "def pred_data( model,tag,data):\n",
    "     \n",
    "            \n",
    "    if tag== 'PCE':\n",
    "        return pred_pce(model,data)\n",
    "        \n",
    "    else :\n",
    "         return pred_prop(model,tag,data)    \n",
    "             "
   ]
  },
  {
   "cell_type": "code",
   "execution_count": null,
   "metadata": {},
   "outputs": [],
   "source": [
    "def pred_pce(model,data):\n",
    "    db=ase.db.connect(data)\n",
    "    pce=[]\n",
    "    ids=[]\n",
    "    for row in db.select():\n",
    "        x=[]\n",
    "        x.extend((row.homo,row.lumo,row.edahl,row.edall,row.et1,row.nd,row.adlumo,row.dhomo,row.dlumo))\n",
    "        y = model.predict(np.array(x).reshape(1,-1)).tolist()\n",
    "#         print(y)\n",
    "        pce.extend(y)\n",
    "        ids.append(row.id)\n",
    "        \n",
    "    return ids,pce"
   ]
  },
  {
   "cell_type": "code",
   "execution_count": null,
   "metadata": {},
   "outputs": [],
   "source": [
    "def pred_prop(model,tag,data):\n",
    "    pred=AtomsData(data)\n",
    "    pred_loader = spk.AtomsLoader(pred, batch_size=10) #40!!\n",
    "    \n",
    "    for count, batch in enumerate(pred_loader):\n",
    "        datapred = model(batch)\n",
    "        ids=batch['_idx'].numpy().tolist()\n",
    "        datapred=datapred[tag].detach().numpy().tolist()\n",
    "        yield datapred,ids"
   ]
  },
  {
   "cell_type": "code",
   "execution_count": null,
   "metadata": {},
   "outputs": [],
   "source": [
    "def write_results(predata,tag,db):\n",
    "    \n",
    "    for num in predata.keys():\n",
    "        for prop in predata[num].keys():\n",
    "            \n",
    "            db.update(id=num+1, **{prop: predata[num][prop]}) \n",
    "    \n",
    "    return 0"
   ]
  },
  {
   "cell_type": "code",
   "execution_count": null,
   "metadata": {},
   "outputs": [],
   "source": [
    "def main():\n",
    "    target=['et1','dhomo','dlumo','homo','lumo'] # need to predict with schnet\n",
    "    target2=['nd','edahl','edall','adlumo'] # no need to predict\n",
    "    predata={}\n",
    "    db=ase.db.connect('pred.db')\n",
    "    \n",
    "    odb=ase.db.connect('radcap10000cepb3lyp2.db')\n",
    "    for mol in odb.select():      \n",
    "            atom=mol.toatoms()\n",
    "            db.write(atom)\n",
    "    for tag in target:\n",
    "        best_model=load_model(target=tag,path='./package/'+tag+'_model')\n",
    "    \n",
    "        for property,id in pred_data(best_model,tag,data='pred.db'):\n",
    "            for sid,sprop in zip(id,property):    \n",
    "                predata.update({sid[0]:{tag:sprop[0]}})\n",
    "        write_results(predata,tag,db)    \n",
    "#         print(predata)\n",
    "    for tag in target2:\n",
    "        for moln,molo in zip(db.select(),odb.select()):\n",
    "            sprop=cal_prop(moln,molo,tag)\n",
    "            sid=moln.id-1\n",
    "            predata.update({sid:{tag:sprop}})\n",
    "           \n",
    "        write_results(predata,tag,db)\n",
    "    pcemodel=load_model(target='PCE',path='./package/lgb_model')\n",
    "    \n",
    "    ids,pce=pred_data(model=pcemodel,tag='PCE',data='pred.db')\n",
    "\n",
    "    for sid,spce in zip(ids,pce):\n",
    "        \n",
    "        db.update(id=sid,PCE=spce)\n",
    "\n",
    "    \n",
    "    return 0"
   ]
  },
  {
   "cell_type": "code",
   "execution_count": null,
   "metadata": {
    "scrolled": true
   },
   "outputs": [],
   "source": [
    "if __name__ == '__main__':\n",
    "    status = main()\n",
    "    \n",
    "    "
   ]
  },
  {
   "cell_type": "code",
   "execution_count": null,
   "metadata": {},
   "outputs": [],
   "source": []
  },
  {
   "cell_type": "code",
   "execution_count": null,
   "metadata": {},
   "outputs": [],
   "source": []
  },
  {
   "cell_type": "code",
   "execution_count": null,
   "metadata": {},
   "outputs": [],
   "source": []
  }
 ],
 "metadata": {
  "kernelspec": {
   "display_name": "Python 2",
   "language": "python",
   "name": "python2"
  },
  "language_info": {
   "codemirror_mode": {
    "name": "ipython",
    "version": 3
   },
   "file_extension": ".py",
   "mimetype": "text/x-python",
   "name": "python",
   "nbconvert_exporter": "python",
   "pygments_lexer": "ipython3",
   "version": "3.6.7"
  }
 },
 "nbformat": 4,
 "nbformat_minor": 4
}
